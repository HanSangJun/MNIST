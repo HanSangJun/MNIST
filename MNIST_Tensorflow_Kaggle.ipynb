{
 "cells": [
  {
   "cell_type": "markdown",
   "metadata": {},
   "source": [
    "## MNIST Classification with Pure Tensorflow\n",
    "Although MNIST example has been tutorial for deep learning beginner, it is not easy as we might think. Especially for Tensorflow, many users have difficulty on applying MNIST examples to their domain problems. This is because Tensorflow provides tutorial-specific API for MNIST such as load data and batch extraction. Here, I tried to implement MNIST classification using pure python and tensorflow. If you want to be a professional developer without high-level API (such as Keras), I recommend this."
   ]
  },
  {
   "cell_type": "markdown",
   "metadata": {},
   "source": [
    "## Developer Information\n",
    "- Sangjun Han\n",
    "- LG CNS, South Korea\n",
    "- written on 2018-09-27"
   ]
  },
  {
   "cell_type": "code",
   "execution_count": 1,
   "metadata": {},
   "outputs": [
    {
     "name": "stderr",
     "output_type": "stream",
     "text": [
      "D:\\ProgramData\\Anaconda3\\envs\\tensorflow_python3.6\\lib\\site-packages\\h5py\\__init__.py:36: FutureWarning: Conversion of the second argument of issubdtype from `float` to `np.floating` is deprecated. In future, it will be treated as `np.float64 == np.dtype(float).type`.\n",
      "  from ._conv import register_converters as _register_converters\n"
     ]
    }
   ],
   "source": [
    "from time import time\n",
    "\n",
    "import numpy as np\n",
    "import pandas as pd\n",
    "import matplotlib.pyplot as plt\n",
    "from sklearn.preprocessing import LabelEncoder, OneHotEncoder\n",
    "%matplotlib inline\n",
    "\n",
    "import tensorflow as tf"
   ]
  },
  {
   "cell_type": "code",
   "execution_count": 2,
   "metadata": {},
   "outputs": [],
   "source": [
    "num_classes = 10\n",
    "width = height = 28"
   ]
  },
  {
   "cell_type": "code",
   "execution_count": 3,
   "metadata": {},
   "outputs": [],
   "source": [
    "def shuffleData(data):\n",
    "    idx = np.arange(0, data.shape[0])\n",
    "    np.random.shuffle(idx)\n",
    "    \n",
    "    return data[idx]"
   ]
  },
  {
   "cell_type": "markdown",
   "metadata": {},
   "source": [
    "### Data Load"
   ]
  },
  {
   "cell_type": "code",
   "execution_count": 4,
   "metadata": {},
   "outputs": [
    {
     "name": "stdout",
     "output_type": "stream",
     "text": [
      "data shape : (42000, 785)\n"
     ]
    }
   ],
   "source": [
    "# load data\n",
    "data = pd.read_csv(\"./train.csv\").values\n",
    "data = shuffleData(data) # shuffle data\n",
    "\n",
    "print(\"data shape :\", data.shape)"
   ]
  },
  {
   "cell_type": "markdown",
   "metadata": {},
   "source": [
    "### Split Data for Train and Validation Set\n",
    "The validation set will be used for evaluating metrics when training."
   ]
  },
  {
   "cell_type": "code",
   "execution_count": 5,
   "metadata": {},
   "outputs": [],
   "source": [
    "def splitData(data, train_ratio=0.8):\n",
    "    num_data = data.shape[0]\n",
    "    num_train = int(num_data * train_ratio)\n",
    "    \n",
    "    train = data[:num_train]\n",
    "    val = data[num_train:]\n",
    "    \n",
    "    return train, val"
   ]
  },
  {
   "cell_type": "code",
   "execution_count": 6,
   "metadata": {},
   "outputs": [
    {
     "name": "stdout",
     "output_type": "stream",
     "text": [
      "x_train shape : (33600, 785)\n",
      "x_val shape : (8400, 785)\n"
     ]
    }
   ],
   "source": [
    "# split data train, val\n",
    "x_train, x_val = splitData(data, 0.8)\n",
    "\n",
    "print(\"x_train shape :\", x_train.shape)\n",
    "print(\"x_val shape :\", x_val.shape)"
   ]
  },
  {
   "cell_type": "code",
   "execution_count": 7,
   "metadata": {},
   "outputs": [
    {
     "name": "stdout",
     "output_type": "stream",
     "text": [
      "x_train shape : (33600, 784)\n",
      "y_train shape : (33600,)\n",
      "x_val shape : (8400, 784)\n",
      "y_val shape : (8400,)\n"
     ]
    }
   ],
   "source": [
    "# split label\n",
    "y_train = x_train[:, 0]\n",
    "x_train = x_train[:, 1:]\n",
    "\n",
    "y_val = x_val[:, 0]\n",
    "x_val = x_val[:, 1:]\n",
    "\n",
    "print(\"x_train shape :\", x_train.shape)\n",
    "print(\"y_train shape :\", y_train.shape)\n",
    "print(\"x_val shape :\", x_val.shape)\n",
    "print(\"y_val shape :\", y_val.shape)"
   ]
  },
  {
   "cell_type": "code",
   "execution_count": 8,
   "metadata": {},
   "outputs": [
    {
     "name": "stdout",
     "output_type": "stream",
     "text": [
      "x_train shape : (33600, 28, 28, 1)\n",
      "x_val shape : (8400, 28, 28, 1)\n"
     ]
    }
   ],
   "source": [
    "# reshape\n",
    "x_train = x_train.reshape([-1, width, height, 1]).astype(\"float32\")\n",
    "x_val = x_val.reshape([-1, width, height, 1]).astype(\"float32\")\n",
    "\n",
    "print(\"x_train shape :\", x_train.shape)\n",
    "print(\"x_val shape :\", x_val.shape)"
   ]
  },
  {
   "cell_type": "code",
   "execution_count": 9,
   "metadata": {},
   "outputs": [
    {
     "data": {
      "image/png": "[encoded data removed]",
      "text/plain": [
       "<Figure size 432x288 with 9 Axes>"
      ]
     },
     "metadata": {},
     "output_type": "display_data"
    }
   ],
   "source": [
    "# plot data\n",
    "for i in range(0, 9):\n",
    "    plt.subplot(3, 3, i+1)\n",
    "    plt.imshow(x_train[i, :, :, 0], cmap=\"gray\")\n",
    "\n",
    "plt.tight_layout()\n",
    "plt.show()"
   ]
  },
  {
   "cell_type": "markdown",
   "metadata": {},
   "source": [
    "### Data Augmentation\n",
    "Using ImageDataGenerator in tf.keras, we generate augmented images from training and validation set."
   ]
  },
  {
   "cell_type": "code",
   "execution_count": 10,
   "metadata": {},
   "outputs": [],
   "source": [
    "def genAugmentedImg(img, label, num_data=10000):\n",
    "    gen_data = tf.keras.preprocessing.image.ImageDataGenerator(\n",
    "    rotation_range=10,\n",
    "    width_shift_range=0.1,\n",
    "    height_shift_range=0.1,\n",
    "    shear_range=0.1,\n",
    "    zoom_range=0.1,\n",
    "    fill_mode='nearest')\n",
    "    \n",
    "    gen_data.fit(x_train)\n",
    "    data = gen_data.flow(img, label, batch_size=num_data)\n",
    "    \n",
    "    return data[0][0], data[0][1]"
   ]
  },
  {
   "cell_type": "code",
   "execution_count": 11,
   "metadata": {},
   "outputs": [
    {
     "name": "stdout",
     "output_type": "stream",
     "text": [
      "x_aug_train shape : (15000, 28, 28, 1)\n",
      "y_aug_train shape : (15000,)\n"
     ]
    }
   ],
   "source": [
    "x_aug_train, y_aug_train = genAugmentedImg(x_train, y_train, 15000)\n",
    "x_aug_val, y_aug_val = genAugmentedImg(x_val, y_val, 5000)\n",
    "\n",
    "print(\"x_aug_train shape :\", x_aug_train.shape)\n",
    "print(\"y_aug_train shape :\", y_aug_train.shape)"
   ]
  },
  {
   "cell_type": "code",
   "execution_count": 12,
   "metadata": {},
   "outputs": [
    {
     "data": {
      "image/png": "[encoded data removed]",
      "text/plain": [
       "<Figure size 432x288 with 9 Axes>"
      ]
     },
     "metadata": {},
     "output_type": "display_data"
    }
   ],
   "source": [
    "# plot data\n",
    "for i in range(0, 9):\n",
    "    plt.subplot(3, 3, i+1)\n",
    "    plt.imshow(x_aug_train[i, :, :, 0], cmap=\"gray\")\n",
    "\n",
    "plt.tight_layout()\n",
    "plt.show()"
   ]
  },
  {
   "cell_type": "code",
   "execution_count": 13,
   "metadata": {},
   "outputs": [
    {
     "name": "stdout",
     "output_type": "stream",
     "text": [
      "x_train shape : (53600, 28, 28, 1)\n",
      "y_train shape : (53600,)\n"
     ]
    }
   ],
   "source": [
    "x_train = np.concatenate((x_train, x_aug_train, x_aug_val), axis=0)\n",
    "y_train = np.concatenate((y_train, y_aug_train, y_aug_val), axis=0)\n",
    "\n",
    "print(\"x_train shape :\", x_train.shape)\n",
    "print(\"y_train shape :\", y_train.shape)"
   ]
  },
  {
   "cell_type": "markdown",
   "metadata": {},
   "source": [
    "### Normalization"
   ]
  },
  {
   "cell_type": "code",
   "execution_count": 14,
   "metadata": {},
   "outputs": [
    {
     "name": "stdout",
     "output_type": "stream",
     "text": [
      "x_train shape : (53600, 28, 28, 1)\n",
      "x_val shape : (8400, 28, 28, 1)\n"
     ]
    }
   ],
   "source": [
    "# normalization\n",
    "x_train /= 255.0\n",
    "x_val /= 255.0\n",
    "\n",
    "print(\"x_train shape :\", x_train.shape)\n",
    "print(\"x_val shape :\", x_val.shape)"
   ]
  },
  {
   "cell_type": "markdown",
   "metadata": {},
   "source": [
    "### One-hot encoding for cross-entropy loss"
   ]
  },
  {
   "cell_type": "code",
   "execution_count": 15,
   "metadata": {},
   "outputs": [],
   "source": [
    "def oneHotEncoding_sklearn(y):\n",
    "    toLabel = LabelEncoder()\n",
    "    toOneHot = OneHotEncoder()\n",
    "    \n",
    "    y = toLabel.fit_transform(y)\n",
    "    y = y.reshape(-1, 1)\n",
    "    y = toOneHot.fit_transform(y)\n",
    "    \n",
    "    return y.todense()"
   ]
  },
  {
   "cell_type": "code",
   "execution_count": 16,
   "metadata": {},
   "outputs": [
    {
     "name": "stdout",
     "output_type": "stream",
     "text": [
      "y_train shape : (53600, 10)\n",
      "y_val shape : (8400, 10)\n"
     ]
    }
   ],
   "source": [
    "# one-hot encoding of label\n",
    "y_train = oneHotEncoding_sklearn(y_train)\n",
    "y_val = oneHotEncoding_sklearn(y_val)\n",
    "\n",
    "print(\"y_train shape :\", y_train.shape)\n",
    "print(\"y_val shape :\", y_val.shape)"
   ]
  },
  {
   "cell_type": "markdown",
   "metadata": {},
   "source": [
    "### Deep Learning Blocks\n",
    "I found that the combination of batch normalization with high dropout makes our performance worse extremely. I recommend you to apply only high dropout because of computation speed. Please discuss about their relationship."
   ]
  },
  {
   "cell_type": "code",
   "execution_count": 17,
   "metadata": {},
   "outputs": [],
   "source": [
    "def convBatchNormReluDropout(X, W, conv_stride=1, maxp_stride=2, prob=0.5, phase=True):\n",
    "    H = tf.nn.conv2d(X, W, strides=[1, conv_stride, conv_stride, 1], padding='SAME')\n",
    "    # H = tf.contrib.layers.batch_norm(H, is_training=phase, decay=0.9, zero_debias_moving_mean=True, center=True, scale=True, updates_collections=None)\n",
    "    H = tf.nn.relu(H)\n",
    "    H = tf.nn.dropout(H, prob)\n",
    "    H = tf.nn.max_pool(H, ksize=[1, 2, 2, 1], strides=[1, maxp_stride, maxp_stride, 1], padding='SAME')\n",
    "    print(H.shape[1:])\n",
    "    \n",
    "    return H"
   ]
  },
  {
   "cell_type": "code",
   "execution_count": 18,
   "metadata": {},
   "outputs": [],
   "source": [
    "def flattenFC(X, W, input_size, prob=0.5, phase=True):\n",
    "    H = tf.reshape(X, [-1, input_size])\n",
    "    H = tf.matmul(H, W)\n",
    "    # H = tf.contrib.layers.batch_norm(H, is_training=phase, decay=0.9, zero_debias_moving_mean=True, center=True, scale=True, updates_collections=None)\n",
    "    H = tf.nn.relu(H)\n",
    "    H = tf.nn.dropout(H, prob)\n",
    "    print(H.shape[1:])\n",
    "    \n",
    "    return H"
   ]
  },
  {
   "cell_type": "code",
   "execution_count": 19,
   "metadata": {},
   "outputs": [
    {
     "name": "stdout",
     "output_type": "stream",
     "text": [
      "model setting\n",
      "(14, 14, 32)\n",
      "(7, 7, 64)\n",
      "(4, 4, 128)\n",
      "(128,)\n",
      "(10,)\n"
     ]
    }
   ],
   "source": [
    "# model\n",
    "print(\"model setting\")\n",
    "inputs = tf.placeholder(tf.float32, [None, 28, 28, 1])\n",
    "outputs = tf.placeholder(tf.float32, [None, 10])\n",
    "learning_rate = tf.placeholder(tf.float32)\n",
    "keep_prob = tf.placeholder(tf.float32)\n",
    "phase = tf.placeholder(tf.bool)\n",
    "\n",
    "# he initializer\n",
    "initializer = tf.contrib.layers.variance_scaling_initializer(factor=2.0, mode='FAN_IN', uniform=False)\n",
    "conv_stride = 1; maxp_stride = 2\n",
    "\n",
    "# 1. conv block\n",
    "W1 = tf.Variable(initializer([5, 5, 1, 32]))\n",
    "H1 = convBatchNormReluDropout(inputs, W1, conv_stride, maxp_stride, keep_prob, phase)\n",
    "\n",
    "# 2. conv block\n",
    "W2 = tf.Variable(initializer([5, 5, 32, 64]))\n",
    "H2 = convBatchNormReluDropout(H1, W2, conv_stride, maxp_stride, keep_prob, phase)\n",
    "\n",
    "# 3. conv block\n",
    "W3 = tf.Variable(initializer([5, 5, 64, 128]))\n",
    "H3 = convBatchNormReluDropout(H2, W3, conv_stride, maxp_stride, keep_prob, phase)\n",
    "\n",
    "flatten_size = int(H3.shape[1] * H3.shape[2] * H3.shape[3])\n",
    "\n",
    "# 3. fc layers\n",
    "W4 = tf.Variable(initializer([flatten_size, 128]))\n",
    "H4 = flattenFC(H3, W4, flatten_size, keep_prob, phase)\n",
    "\n",
    "# 4. fc layers\n",
    "W5 = tf.Variable(initializer([128, 10]))\n",
    "model = tf.matmul(H4, W5)\n",
    "# model = tf.contrib.layers.batch_norm(H5, decay=0.9, zero_debias_moving_mean=True, is_training=phase, center=True, scale=True, updates_collections=None)\n",
    "print(model.shape[1:])\n",
    "\n",
    "# cost\n",
    "cost = tf.reduce_mean(tf.nn.softmax_cross_entropy_with_logits_v2(logits=model, labels=outputs))\n",
    "optimizer = tf.train.AdamOptimizer(learning_rate).minimize(cost)\n",
    "\n",
    "# accuracy\n",
    "predict = tf.argmax(model, 1)\n",
    "is_correct = tf.equal(predict, tf.argmax(outputs, 1))\n",
    "accuracy = tf.reduce_mean(tf.cast(is_correct, tf.float32))"
   ]
  },
  {
   "cell_type": "markdown",
   "metadata": {},
   "source": [
    "### Training\n",
    "Decaying learning rate when it was stuck may be effective on its performance."
   ]
  },
  {
   "cell_type": "code",
   "execution_count": 20,
   "metadata": {},
   "outputs": [],
   "source": [
    "# init\n",
    "init = tf.global_variables_initializer()\n",
    "sess = tf.Session()\n",
    "sess.run(init)"
   ]
  },
  {
   "cell_type": "code",
   "execution_count": 21,
   "metadata": {},
   "outputs": [],
   "source": [
    "# settings\n",
    "lr = 0.001\n",
    "epochs = 25\n",
    "batch_size = 256\n",
    "total_batch = int(x_train.shape[0] / batch_size)\n",
    "patience = 0"
   ]
  },
  {
   "cell_type": "code",
   "execution_count": 22,
   "metadata": {},
   "outputs": [],
   "source": [
    "# history\n",
    "history = {}\n",
    "history[\"train_loss_list\"] = []\n",
    "history[\"train_acc_list\"] = []\n",
    "history[\"val_loss_list\"] = []\n",
    "history[\"val_acc_list\"] = []"
   ]
  },
  {
   "cell_type": "code",
   "execution_count": 23,
   "metadata": {},
   "outputs": [],
   "source": [
    "def randomBatch(size, x, y): # randomly sample minibatch\n",
    "    idx = np.arange(0, x.shape[0])\n",
    "    np.random.shuffle(idx)\n",
    "    idx = idx[:size]\n",
    "    \n",
    "    return x[idx], y[idx]"
   ]
  },
  {
   "cell_type": "code",
   "execution_count": 24,
   "metadata": {},
   "outputs": [],
   "source": [
    "def nextBatch(size, x, y, idx): # iterablely sample minibatch\n",
    "    sp = idx * size\n",
    "    ep = (idx + 1) * size\n",
    "\n",
    "    return x[sp:ep], y[sp:ep]"
   ]
  },
  {
   "cell_type": "code",
   "execution_count": 25,
   "metadata": {
    "scrolled": true
   },
   "outputs": [
    {
     "name": "stdout",
     "output_type": "stream",
     "text": [
      "Training Size: 53600\n",
      "Epoch 1/25 (111s) - train_loss: 0.659, train_acc: 0.949, val_loss: 0.580, val_acc: 0.960\n",
      "Epoch 2/25 (111s) - train_loss: 0.346, train_acc: 0.974, val_loss: 0.286, val_acc: 0.978\n",
      "Epoch 3/25 (110s) - train_loss: 0.203, train_acc: 0.984, val_loss: 0.167, val_acc: 0.986\n",
      "Epoch 4/25 (110s) - train_loss: 0.178, train_acc: 0.985, val_loss: 0.145, val_acc: 0.986\n",
      "Epoch 5/25 (110s) - train_loss: 0.147, train_acc: 0.984, val_loss: 0.115, val_acc: 0.988\n",
      "Epoch 6/25 (110s) - train_loss: 0.114, train_acc: 0.990, val_loss: 0.092, val_acc: 0.992\n",
      "Epoch 7/25 (110s) - train_loss: 0.111, train_acc: 0.992, val_loss: 0.090, val_acc: 0.993\n",
      "Epoch 8/25 (114s) - train_loss: 0.104, train_acc: 0.992, val_loss: 0.082, val_acc: 0.993\n",
      "Epoch 9/25 (116s) - train_loss: 0.082, train_acc: 0.993, val_loss: 0.066, val_acc: 0.993\n",
      "Epoch 10/25 (115s) - train_loss: 0.075, train_acc: 0.992, val_loss: 0.055, val_acc: 0.994\n",
      "------ Learning rate was decayed to 0.000800\n",
      "Epoch 11/25 (111s) - train_loss: 0.078, train_acc: 0.992, val_loss: 0.063, val_acc: 0.994\n",
      "Epoch 12/25 (111s) - train_loss: 0.057, train_acc: 0.995, val_loss: 0.048, val_acc: 0.994\n",
      "Epoch 13/25 (109s) - train_loss: 0.062, train_acc: 0.995, val_loss: 0.054, val_acc: 0.993\n",
      "Epoch 14/25 (109s) - train_loss: 0.065, train_acc: 0.995, val_loss: 0.052, val_acc: 0.994\n",
      "------ Learning rate was decayed to 0.000640\n",
      "Epoch 15/25 (109s) - train_loss: 0.055, train_acc: 0.996, val_loss: 0.046, val_acc: 0.994\n",
      "Epoch 16/25 (109s) - train_loss: 0.044, train_acc: 0.996, val_loss: 0.035, val_acc: 0.995\n",
      "Epoch 17/25 (109s) - train_loss: 0.044, train_acc: 0.997, val_loss: 0.037, val_acc: 0.996\n",
      "Epoch 18/25 (109s) - train_loss: 0.038, train_acc: 0.997, val_loss: 0.032, val_acc: 0.995\n",
      "------ Learning rate was decayed to 0.000512\n",
      "Epoch 19/25 (109s) - train_loss: 0.037, train_acc: 0.997, val_loss: 0.031, val_acc: 0.996\n",
      "Epoch 20/25 (110s) - train_loss: 0.033, train_acc: 0.997, val_loss: 0.031, val_acc: 0.995\n",
      "Epoch 21/25 (109s) - train_loss: 0.031, train_acc: 0.998, val_loss: 0.029, val_acc: 0.995\n",
      "------ Learning rate was decayed to 0.000410\n",
      "Epoch 22/25 (110s) - train_loss: 0.035, train_acc: 0.998, val_loss: 0.033, val_acc: 0.995\n",
      "Epoch 23/25 (109s) - train_loss: 0.028, train_acc: 0.998, val_loss: 0.028, val_acc: 0.996\n",
      "Epoch 24/25 (109s) - train_loss: 0.027, train_acc: 0.999, val_loss: 0.028, val_acc: 0.996\n",
      "------ Learning rate was decayed to 0.000328\n",
      "Epoch 25/25 (109s) - train_loss: 0.023, train_acc: 0.999, val_loss: 0.025, val_acc: 0.995\n"
     ]
    }
   ],
   "source": [
    "# training\n",
    "print(\"Training Size:\", x_train.shape[0])\n",
    "\n",
    "for epoch in range(epochs):\n",
    "    start_time = time()\n",
    "    \n",
    "    # training for update\n",
    "    for i in range(total_batch):\n",
    "        batch_x, batch_y = nextBatch(batch_size, x_train, y_train, i) # pick small batch\n",
    "        sess.run([optimizer], feed_dict={inputs: batch_x, outputs: batch_y, learning_rate: lr, keep_prob: 0.5, phase: True}) # update\n",
    "    \n",
    "    # training evaluation\n",
    "    batch_x, batch_y = randomBatch(x_val.shape[0], x_train, y_train) # pick random samples as much as validation size\n",
    "    train_loss, train_acc = sess.run([cost, accuracy], feed_dict={inputs: batch_x, outputs: batch_y, keep_prob: 1, phase: False})\n",
    "    \n",
    "    # validation evaluation\n",
    "    val_loss, val_acc = sess.run([cost, accuracy], feed_dict={inputs: x_val, outputs: y_val, keep_prob: 1, phase: False})\n",
    "    \n",
    "    # history\n",
    "    history[\"train_loss_list\"].append(train_loss)\n",
    "    history[\"train_acc_list\"].append(train_acc)\n",
    "    history[\"val_loss_list\"].append(val_loss)\n",
    "    history[\"val_acc_list\"].append(val_acc)\n",
    "    \n",
    "    # reduce lr when it was stuck (according to validation loss)\n",
    "    if  epoch > 2 and (history[\"val_loss_list\"][-2] < history[\"val_loss_list\"][-1] or abs(history[\"val_loss_list\"][-1] - history[\"val_loss_list\"][-2]) < 0.01):\n",
    "        patience += 1\n",
    "        # decay learning rate when patience == 3\n",
    "        if patience == 3:\n",
    "            patience = 0\n",
    "            lr *= 0.8\n",
    "            print(\"------ Learning rate was decayed to %f\" % lr)\n",
    "    \n",
    "    end_time = time() - start_time\n",
    "\n",
    "    print(\"Epoch %d/%d (%ds) - train_loss: %0.3f, train_acc: %0.3f, val_loss: %0.3f, val_acc: %0.3f\" % (epoch+1, epochs, end_time, train_loss, train_acc, val_loss, val_acc))"
   ]
  },
  {
   "cell_type": "code",
   "execution_count": 26,
   "metadata": {},
   "outputs": [
    {
     "data": {
      "image/png": "[encoded data removed]",
      "text/plain": [
       "<Figure size 432x288 with 1 Axes>"
      ]
     },
     "metadata": {},
     "output_type": "display_data"
    }
   ],
   "source": [
    "# plot loss\n",
    "plt.plot(history[\"train_loss_list\"])\n",
    "plt.plot(history[\"val_loss_list\"])\n",
    "plt.title('Model Loss')\n",
    "plt.xlabel('epoch')\n",
    "plt.ylabel('loss')\n",
    "plt.legend(['train', 'validation'], loc=1),\n",
    "plt.show()"
   ]
  },
  {
   "cell_type": "code",
   "execution_count": 27,
   "metadata": {},
   "outputs": [
    {
     "data": {
      "image/png": "[encoded data removed]",
      "text/plain": [
       "<Figure size 432x288 with 1 Axes>"
      ]
     },
     "metadata": {},
     "output_type": "display_data"
    }
   ],
   "source": [
    "# plot loss\n",
    "plt.plot(history[\"train_acc_list\"])\n",
    "plt.plot(history[\"val_acc_list\"])\n",
    "plt.title('Model Accuracy')\n",
    "plt.xlabel('epoch')\n",
    "plt.ylabel('loss')\n",
    "plt.legend(['train', 'validation'], loc=4),\n",
    "plt.show()"
   ]
  },
  {
   "cell_type": "markdown",
   "metadata": {},
   "source": [
    "### Test for Submission"
   ]
  },
  {
   "cell_type": "code",
   "execution_count": 28,
   "metadata": {},
   "outputs": [
    {
     "name": "stdout",
     "output_type": "stream",
     "text": [
      "x_test shape : (28000, 28, 28, 1)\n"
     ]
    }
   ],
   "source": [
    "# load for submission\n",
    "x_test = pd.read_csv(\"./test.csv\").values\n",
    "x_test = x_test.reshape([-1, width, height, 1]).astype(\"float32\")\n",
    "x_test /= 255.0\n",
    "\n",
    "submission = pd.read_csv(\"./sample_submission.csv\")\n",
    "\n",
    "print(\"x_test shape :\", x_test.shape)"
   ]
  },
  {
   "cell_type": "code",
   "execution_count": 29,
   "metadata": {},
   "outputs": [],
   "source": [
    "# test\n",
    "predict_y = sess.run([predict], feed_dict={inputs: x_test, keep_prob: 1, phase: False})\n",
    "submission[\"Label\"] = predict_y[0]"
   ]
  },
  {
   "cell_type": "code",
   "execution_count": 30,
   "metadata": {},
   "outputs": [],
   "source": [
    "# save\n",
    "submission.to_csv(\"./my_submission.csv\", index=False, header=True)"
   ]
  }
 ],
 "metadata": {
  "kernelspec": {
   "display_name": "Python 3",
   "language": "python",
   "name": "python3"
  },
  "language_info": {
   "codemirror_mode": {
    "name": "ipython",
    "version": 3
   },
   "file_extension": ".py",
   "mimetype": "text/x-python",
   "name": "python",
   "nbconvert_exporter": "python",
   "pygments_lexer": "ipython3",
   "version": "3.6.5"
  }
 },
 "nbformat": 4,
 "nbformat_minor": 2
}
